{
 "cells": [
  {
   "cell_type": "code",
   "execution_count": 1,
   "id": "2235808b-c0cb-49a7-9710-010821c7b5ac",
   "metadata": {},
   "outputs": [],
   "source": [
    "# 1. Predefined Crypto Data\n",
    "# This dictionary stores our cryptocurrency data.\n",
    "crypto_db = {\n",
    "    \"Bitcoin\": {\n",
    "        \"price_trend\": \"rising\",\n",
    "        \"market_cap\": \"high\",\n",
    "        \"energy_use\": \"high\",\n",
    "        \"sustainability_score\": 3/10\n",
    "    },\n",
    "    \"Ethereum\": {\n",
    "        \"price_trend\": \"stable\",\n",
    "        \"market_cap\": \"high\",\n",
    "        \"energy_use\": \"medium\",\n",
    "        \"sustainability_score\": 6/10\n",
    "    },\n",
    "    \"Cardano\": {\n",
    "        \"price_trend\": \"rising\",\n",
    "        \"market_cap\": \"medium\",\n",
    "        \"energy_use\": \"low\",\n",
    "        \"sustainability_score\": 8/10\n",
    "    },\n",
    "    \"Solana\": {\n",
    "        \"price_trend\": \"volatile\",\n",
    "        \"market_cap\": \"medium\",\n",
    "        \"energy_use\": \"low\",\n",
    "        \"sustainability_score\": 9/10\n",
    "    },\n",
    "    \"Algorand\": {\n",
    "        \"price_trend\": \"stable\",\n",
    "        \"market_cap\": \"low\",\n",
    "        \"energy_use\": \"low\",\n",
    "        \"sustainability_score\": 9.5/10\n",
    "    }\n",
    "}\n",
    "\n"
   ]
  },
  {
   "cell_type": "code",
   "execution_count": 2,
   "id": "c9ce1911-60c1-490e-be6d-d3f76d4e8525",
   "metadata": {},
   "outputs": [],
   "source": [
    "# 2. Chatbot Logic and Advice Rules\n",
    "def get_cryptobuddy_response(user_query):\n",
    "    \"\"\"\n",
    "    Processes the user's query and returns a response from CryptoBuddy.\n",
    "    \"\"\"\n",
    "    user_query = user_query.lower()  # Make the query case-insensitive\n",
    "\n",
    "    # Rule for help\n",
    "    if \"help\" in user_query:\n",
    "        return (\n",
    "            \"Of course! You can ask me questions like:\\n\"\n",
    "            \"- 'Which crypto should I buy for long-term growth?'\\n\"\n",
    "            \"- 'What is the most sustainable coin?'\\n\"\n",
    "            \"- 'Which crypto is trending up?'\\n\"\n",
    "            \"- 'Which crypto do you provide advice on'\"\n",
    "        )\n",
    "\n",
    "    # Rule for advice\n",
    "    if \"advice\" in user_query or \"advise\" in user_query:\n",
    "        response = \"Here are the coins and their sustainability scores:\\n\"\n",
    "        for coin, data in crypto_db.items():\n",
    "            response += f\"- {coin}: {data['sustainability_score'] * 10}/10\\n\"\n",
    "        return response\n",
    "\n",
    "    # Rule for sustainability\n",
    "    if \"sustainable\" in user_query or \"eco-friendly\" in user_query:\n",
    "        # Find the coin with the highest sustainability score\n",
    "        recommendation = max(crypto_db, key=lambda x: crypto_db[x][\"sustainability_score\"])\n",
    "        return f\"For sustainability, check out {recommendation}!  It’s eco-friendly and has great potential!\"\n",
    "\n",
    "    # Rule for trending up\n",
    "    if \"trending up\" in user_query or \"rising\" in user_query:\n",
    "        trending_coins = [coin for coin, data in crypto_db.items() if data[\"price_trend\"] == \"rising\"]\n",
    "        if trending_coins:\n",
    "            return f\"The following coins are currently trending up: {', '.join(trending_coins)}.\"\n",
    "        else:\n",
    "            return \"None of the coins in my database are currently trending up.\"\n",
    "\n",
    "    # Rule for long-term growth (combining profitability and sustainability)\n",
    "    if \"long-term growth\" in user_query or \"long term\" in user_query:\n",
    "         # Prioritize coins with rising trend, high/medium market cap, and high sustainability\n",
    "        best_choice = None\n",
    "        highest_score = -1\n",
    "\n",
    "        for coin, data in crypto_db.items():\n",
    "            score = 0\n",
    "            if data[\"price_trend\"] == \"rising\":\n",
    "                score += 3\n",
    "            if data[\"market_cap\"] in [\"high\", \"medium\"]:\n",
    "                score += 2\n",
    "            if data[\"sustainability_score\"] > 7/10:\n",
    "                score += 4\n",
    "\n",
    "            if score > highest_score:\n",
    "                highest_score = score\n",
    "                best_choice = coin\n",
    "\n",
    "        if best_choice:\n",
    "            return f\"{best_choice} looks promising for long-term growth, with a rising trend and a top-tier sustainability score!\"\n",
    "        else:\n",
    "            return \"I couldn't find a perfect match for long-term growth right now.\"\n",
    "\n",
    "    # General query about a specific crypto\n",
    "    for coin in crypto_db:\n",
    "        if coin.lower() in user_query:\n",
    "            details = crypto_db[coin]\n",
    "            return (f\"Here's the scoop on {coin}:\\n\"\n",
    "                    f\"  - Price Trend: {details['price_trend'].capitalize()}\\n\"\n",
    "                    f\"  - Market Cap: {details['market_cap'].capitalize()}\\n\"\n",
    "                    f\"  - Energy Use: {details['energy_use'].capitalize()}\\n\"\n",
    "                    f\"  - Sustainability Score: {details['sustainability_score'] * 10}/10\")\n",
    "\n",
    "    return \"I'm not sure how to answer that. Try asking for 'help' to see what I can do.\"\n",
    "\n"
   ]
  },
  {
   "cell_type": "code",
   "execution_count": 3,
   "id": "1964f5a0-9553-4131-b846-617993b29d20",
   "metadata": {},
   "outputs": [
    {
     "name": "stdout",
     "output_type": "stream",
     "text": [
      "--------------------------------------------------\n",
      "Welcome to CryptoBuddy!\n",
      "--------------------------------------------------\n",
      "Hey there! Let’s find you a green and growing crypto!\n",
      "\n",
      "You can ask me things like: \n",
      "'Which crypto should I buy for long-term growth?' or '\n",
      "What's the most sustainable coin?' \n",
      "\n",
      "Type 'help' for more options or 'quit' to exit.\n",
      "--------------------------------------------------\n"
     ]
    },
    {
     "name": "stdin",
     "output_type": "stream",
     "text": [
      "\n",
      "You:  Which crypto should I buy for long-term growth?\n"
     ]
    },
    {
     "name": "stdout",
     "output_type": "stream",
     "text": [
      "CryptoBuddy: Cardano looks promising for long-term growth, with a rising trend and a top-tier sustainability score!\n"
     ]
    },
    {
     "name": "stdin",
     "output_type": "stream",
     "text": [
      "\n",
      "You:  What is the most sustainable coin?\n"
     ]
    },
    {
     "name": "stdout",
     "output_type": "stream",
     "text": [
      "CryptoBuddy: For sustainability, check out Algorand!  It’s eco-friendly and has great potential!\n"
     ]
    },
    {
     "name": "stdin",
     "output_type": "stream",
     "text": [
      "\n",
      "You:  Tell me more about Algorand\n"
     ]
    },
    {
     "name": "stdout",
     "output_type": "stream",
     "text": [
      "CryptoBuddy: Here's the scoop on Algorand:\n",
      "  - Price Trend: Stable\n",
      "  - Market Cap: Low\n",
      "  - Energy Use: Low\n",
      "  - Sustainability Score: 9.5/10\n"
     ]
    },
    {
     "name": "stdin",
     "output_type": "stream",
     "text": [
      "\n",
      "You:  help\n"
     ]
    },
    {
     "name": "stdout",
     "output_type": "stream",
     "text": [
      "CryptoBuddy: Of course! You can ask me questions like:\n",
      "- 'Which crypto should I buy for long-term growth?'\n",
      "- 'What is the most sustainable coin?'\n",
      "- 'Which crypto is trending up?'\n",
      "- 'Which crypto do you provide advice on'\n"
     ]
    },
    {
     "name": "stdin",
     "output_type": "stream",
     "text": [
      "\n",
      "You:  Which crypto is trending up?\n"
     ]
    },
    {
     "name": "stdout",
     "output_type": "stream",
     "text": [
      "CryptoBuddy: The following coins are currently trending up: Bitcoin, Cardano.\n"
     ]
    },
    {
     "name": "stdin",
     "output_type": "stream",
     "text": [
      "\n",
      "You:  Tell me more about Cardano\n"
     ]
    },
    {
     "name": "stdout",
     "output_type": "stream",
     "text": [
      "CryptoBuddy: Here's the scoop on Cardano:\n",
      "  - Price Trend: Rising\n",
      "  - Market Cap: Medium\n",
      "  - Energy Use: Low\n",
      "  - Sustainability Score: 8.0/10\n"
     ]
    },
    {
     "name": "stdin",
     "output_type": "stream",
     "text": [
      "\n",
      "You:  What of Bitcoin?\n"
     ]
    },
    {
     "name": "stdout",
     "output_type": "stream",
     "text": [
      "CryptoBuddy: Here's the scoop on Bitcoin:\n",
      "  - Price Trend: Rising\n",
      "  - Market Cap: High\n",
      "  - Energy Use: High\n",
      "  - Sustainability Score: 3.0/10\n"
     ]
    },
    {
     "name": "stdin",
     "output_type": "stream",
     "text": [
      "\n",
      "You:  Compare Bitcoin and Algorand\n"
     ]
    },
    {
     "name": "stdout",
     "output_type": "stream",
     "text": [
      "CryptoBuddy: Here's the scoop on Bitcoin:\n",
      "  - Price Trend: Rising\n",
      "  - Market Cap: High\n",
      "  - Energy Use: High\n",
      "  - Sustainability Score: 3.0/10\n"
     ]
    },
    {
     "name": "stdin",
     "output_type": "stream",
     "text": [
      "\n",
      "You:  quit\n"
     ]
    },
    {
     "name": "stdout",
     "output_type": "stream",
     "text": [
      "CryptoBuddy: Goodbye! Happy investing!\n"
     ]
    }
   ],
   "source": [
    "# 3. Test Your Bot - Interactive Session\n",
    "def start_chatbot():\n",
    "    \"\"\"\n",
    "    Initiates the conversation with CryptoBuddy.\n",
    "    \"\"\"\n",
    "    # Design the Chatbot’s Personality\n",
    "    bot_name = \"CryptoBuddy\"\n",
    "    print(\"-\" * 50)\n",
    "    print(f\"Welcome to {bot_name}!\")\n",
    "    print(\"-\" * 50)\n",
    "    print(\"Hey there! Let’s find you a green and growing crypto!\\n\")\n",
    "    print(\"You can ask me things like: \\n'Which crypto should I buy for long-term growth?' or '\\nWhat's the most sustainable coin?' \\n\\nType 'help' for more options or 'quit' to exit.\")\n",
    "    print(\"-\" * 50)\n",
    "\n",
    "    while True:\n",
    "        user_input = input(\"\\nYou: \")\n",
    "        if user_input.lower() == 'quit':\n",
    "            print(f\"{bot_name}: Goodbye! Happy investing!\")\n",
    "            break\n",
    "        response = get_cryptobuddy_response(user_input)\n",
    "        print(f\"{bot_name}: {response}\")\n",
    "\n",
    "# Main execution block\n",
    "if __name__ == \"__main__\":\n",
    "    start_chatbot()"
   ]
  },
  {
   "cell_type": "code",
   "execution_count": null,
   "id": "42c92bec-b407-435f-bc18-85ec8dd6cc87",
   "metadata": {},
   "outputs": [],
   "source": []
  }
 ],
 "metadata": {
  "kernelspec": {
   "display_name": "anaconda-ai-2024.04-py310",
   "language": "python",
   "name": "conda-env-anaconda-ai-2024.04-py310-py"
  },
  "language_info": {
   "codemirror_mode": {
    "name": "ipython",
    "version": 3
   },
   "file_extension": ".py",
   "mimetype": "text/x-python",
   "name": "python",
   "nbconvert_exporter": "python",
   "pygments_lexer": "ipython3",
   "version": "3.10.13"
  }
 },
 "nbformat": 4,
 "nbformat_minor": 5
}
